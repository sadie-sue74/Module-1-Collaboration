{
 "cells": [
  {
   "cell_type": "markdown",
   "id": "19b6001e-3bc6-4b87-b9f7-e2cf6e2b53e3",
   "metadata": {},
   "source": [
    "## Section 3.1"
   ]
  },
  {
   "cell_type": "code",
   "execution_count": 1,
   "id": "da41a37b-1bb5-4417-bd08-05c1291ee67b",
   "metadata": {},
   "outputs": [
    {
     "data": {
      "text/plain": [
       "3600"
      ]
     },
     "execution_count": 1,
     "metadata": {},
     "output_type": "execute_result"
    }
   ],
   "source": [
    "60 * 60"
   ]
  },
  {
   "cell_type": "markdown",
   "id": "e9168b82-567e-4f53-9a24-4e655f765a91",
   "metadata": {},
   "source": [
    "## Section 3.2"
   ]
  },
  {
   "cell_type": "code",
   "execution_count": 3,
   "id": "a1b7306c-b4a9-4bc4-a7cf-4c5e36a21d9c",
   "metadata": {},
   "outputs": [],
   "source": [
    "seconds_per_hour = 60 * 60"
   ]
  },
  {
   "cell_type": "markdown",
   "id": "92a2eb40-f446-4ea9-818b-12f0aeb4aa99",
   "metadata": {},
   "source": [
    "## Section 3.3"
   ]
  },
  {
   "cell_type": "code",
   "execution_count": 4,
   "id": "a01e1e99-718d-4277-9655-67d9bba3c666",
   "metadata": {},
   "outputs": [
    {
     "data": {
      "text/plain": [
       "86400"
      ]
     },
     "execution_count": 4,
     "metadata": {},
     "output_type": "execute_result"
    }
   ],
   "source": [
    "seconds_per_hour * 24"
   ]
  },
  {
   "cell_type": "markdown",
   "id": "eb74299b-0213-4c2c-b16d-ae4076672390",
   "metadata": {},
   "source": [
    "## Section 3.4"
   ]
  },
  {
   "cell_type": "code",
   "execution_count": 5,
   "id": "c5d35a05-58e1-4a74-926b-2f93a79c1888",
   "metadata": {},
   "outputs": [],
   "source": [
    "seconds_per_day = seconds_per_hour * 24"
   ]
  },
  {
   "cell_type": "markdown",
   "id": "fc6fc1b6-8155-41e7-b831-9f9b0d2c56ba",
   "metadata": {},
   "source": [
    "## Section 3.5"
   ]
  },
  {
   "cell_type": "code",
   "execution_count": 6,
   "id": "b9b4205c-b5c7-4608-8092-c51fd96ebd70",
   "metadata": {},
   "outputs": [
    {
     "data": {
      "text/plain": [
       "24.0"
      ]
     },
     "execution_count": 6,
     "metadata": {},
     "output_type": "execute_result"
    }
   ],
   "source": [
    "seconds_per_day / seconds_per_hour"
   ]
  },
  {
   "cell_type": "markdown",
   "id": "fead1670-8cd2-4312-a10f-7a3f9f16d247",
   "metadata": {},
   "source": [
    "## Section 3.6"
   ]
  },
  {
   "cell_type": "code",
   "execution_count": 7,
   "id": "302f1fd8-4e79-4ff0-86ce-60870f3b7219",
   "metadata": {},
   "outputs": [
    {
     "data": {
      "text/plain": [
       "24"
      ]
     },
     "execution_count": 7,
     "metadata": {},
     "output_type": "execute_result"
    }
   ],
   "source": [
    "seconds_per_day // seconds_per_hour"
   ]
  }
 ],
 "metadata": {
  "kernelspec": {
   "display_name": "Python 3 (ipykernel)",
   "language": "python",
   "name": "python3"
  },
  "language_info": {
   "codemirror_mode": {
    "name": "ipython",
    "version": 3
   },
   "file_extension": ".py",
   "mimetype": "text/x-python",
   "name": "python",
   "nbconvert_exporter": "python",
   "pygments_lexer": "ipython3",
   "version": "3.13.5"
  }
 },
 "nbformat": 4,
 "nbformat_minor": 5
}
